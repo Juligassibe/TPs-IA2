{
 "cells": [
  {
   "cell_type": "markdown",
   "id": "2b88765e",
   "metadata": {},
   "source": [
    "# Práctico Nº 2-Razonamiento\n",
    "\n",
    "### EJERCICIOS OBLIGATORIOS\n",
    "1. ¿Qué motivación tenemos para utilizar algoritmos basados en la inferencia lógica en lugar de utilizar algoritmos de búsqueda para cualquier tipo de problema?\n",
    "\n",
    "2.\t¿Qué diferencia hay entre una base de conocimientos y el ground truth?\n",
    "\n",
    "3.\t¿Qué diferencia hay entre un valor inferido y un valor percibido?\n",
    "\n",
    "4.\t¿Qué valores puede tomar una oración atómica de acuerdo a la lógica proposicional? ¿Cómo se modela la frase “Los valores de A comprendidos entre 0 y 9” de acuerdo a esta sintaxis?\n",
    "\n",
    "5.\t¿Qué algoritmos se utilizan para resolver problemas modelados con lógica proposicional?\n",
    "\n",
    "6.\t¿Qué valores puede tomar una oración atómica de acuerdo a la lógica de primer orden? ¿Cómo se modela la frase “Los valores de A comprendidos entre 0 y 9” de acuerdo a esta sintaxis?\n",
    "\n",
    "7.\t¿Qué algoritmos se utilizan para resolver problemas modelados con lógica de primer orden?\n",
    "\n",
    "8.\tDescriba cómo los planificadores hacen uso de algoritmos de búsqueda globales para encontrar una secuencia óptima de pasos a seguir para resolver un problema\n",
    "\n"
   ]
  }
 ],
 "metadata": {
  "language_info": {
   "name": "python"
  }
 },
 "nbformat": 4,
 "nbformat_minor": 5
}
